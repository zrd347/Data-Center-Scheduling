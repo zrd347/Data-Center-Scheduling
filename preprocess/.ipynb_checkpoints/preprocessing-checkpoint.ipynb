{
 "cells": [
  {
   "cell_type": "code",
   "execution_count": 1,
   "metadata": {},
   "outputs": [],
   "source": [
    "import pandas as pd\n",
    "import numpy as np"
   ]
  },
  {
   "cell_type": "code",
   "execution_count": null,
   "metadata": {},
   "outputs": [],
   "source": [
    "class preprocessing(self):\n",
    "    def int_to_array(value):\n",
    "    mapping = {\n",
    "        0: [0, 0, 0, 0, 0],\n",
    "        1: [1, 0, 0, 0, 0],\n",
    "        2: [1, 1, 0, 0, 0],\n",
    "        3: [1, 1, 1, 0, 0],\n",
    "        4: [1, 1, 1, 1, 0],\n",
    "        5: [1, 1, 1, 1, 1]\n",
    "    }\n",
    "        return mapping.get(value, [0, 0, 0, 0, 0])\n",
    "    \n",
    "in_seq_length = 1000\n",
    "df = pd.read_csv('in_seq.csv')\n",
    "in_seqs = []\n",
    "for idx, row in df.iterrows():\n",
    "    in_seq = np.array([int_to_array(int(row[i])) for i in range(1, 1 + in_seq_length)])  # 控制每个in_seq的长度\n",
    "    in_seqs.append(in_seq)\n",
    "in_seqs = np.array(in_seqs)\n",
    "in_seqs = np.transpose(in_seqs, (1, 0, 2))"
   ]
  }
 ],
 "metadata": {
  "kernelspec": {
   "display_name": "AIWS",
   "language": "python",
   "name": "aiws"
  },
  "language_info": {
   "codemirror_mode": {
    "name": "ipython",
    "version": 3
   },
   "file_extension": ".py",
   "mimetype": "text/x-python",
   "name": "python",
   "nbconvert_exporter": "python",
   "pygments_lexer": "ipython3",
   "version": "3.7.0"
  }
 },
 "nbformat": 4,
 "nbformat_minor": 2
}
