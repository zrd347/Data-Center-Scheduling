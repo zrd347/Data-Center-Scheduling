{
 "cells": [
  {
   "cell_type": "code",
   "execution_count": 2,
   "metadata": {
    "ExecuteTime": {
     "end_time": "2024-08-13T06:49:50.855492500Z",
     "start_time": "2024-08-13T06:49:50.840560200Z"
    }
   },
   "outputs": [],
   "source": [
    "import pandas as pd\n",
    "import numpy as np"
   ]
  },
  {
   "cell_type": "code",
   "execution_count": null,
   "metadata": {},
   "outputs": [],
   "source": [
    "class preprocessing(self):\n",
    "    def int_to_array(value):\n",
    "    mapping = {\n",
    "        0: [0, 0, 0, 0, 0],\n",
    "        1: [1, 0, 0, 0, 0],\n",
    "        2: [1, 1, 0, 0, 0],\n",
    "        3: [1, 1, 1, 0, 0],\n",
    "        4: [1, 1, 1, 1, 0],\n",
    "        5: [1, 1, 1, 1, 1]\n",
    "    }\n",
    "        return mapping.get(value, [0, 0, 0, 0, 0])\n",
    "    \n",
    "in_seq_length = 1000\n",
    "df = pd.read_csv('in_seq.csv')\n",
    "in_seqs = []\n",
    "for idx, row in df.iterrows():\n",
    "    in_seq = np.array([int_to_array(int(row[i])) for i in range(1, 1 + in_seq_length)])  # 控制每个in_seq的长度\n",
    "    in_seqs.append(in_seq)\n",
    "in_seqs = np.array(in_seqs)\n",
    "in_seqs = np.transpose(in_seqs, (1, 0, 2))"
   ]
  },
  {
   "cell_type": "markdown",
   "metadata": {},
   "source": [
    "直接全flattern跑吧，把所谓特殊矩阵全部扁平化跑，结果也扁平化\n",
    "input = 1000 * 200 * 5 = 1000 * 1000\n",
    "output = 1000 * n(400/600) * 16 * 20 = 1000 * 1000 *16 * 20"
   ]
  },
  {
   "cell_type": "code",
   "execution_count": null,
   "metadata": {},
   "outputs": [],
   "source": []
  }
 ],
 "metadata": {
  "kernelspec": {
   "name": "python3",
   "language": "python",
   "display_name": "Python 3 (ipykernel)"
  },
  "language_info": {
   "codemirror_mode": {
    "name": "ipython",
    "version": 3
   },
   "file_extension": ".py",
   "mimetype": "text/x-python",
   "name": "python",
   "nbconvert_exporter": "python",
   "pygments_lexer": "ipython3",
   "version": "3.7.0"
  }
 },
 "nbformat": 4,
 "nbformat_minor": 2
}
